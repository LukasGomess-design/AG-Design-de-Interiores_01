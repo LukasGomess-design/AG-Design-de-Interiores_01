{
  "nbformat": 4,
  "nbformat_minor": 0,
  "metadata": {
    "colab": {
      "provenance": [],
      "authorship_tag": "ABX9TyOCwhyZ7Wx6GHR5kMTdl4TV",
      "include_colab_link": true
    },
    "kernelspec": {
      "name": "python3",
      "display_name": "Python 3"
    },
    "language_info": {
      "name": "python"
    }
  },
  "cells": [
    {
      "cell_type": "markdown",
      "metadata": {
        "id": "view-in-github",
        "colab_type": "text"
      },
      "source": [
        "<a href=\"https://colab.research.google.com/github/LukasGomess-design/AG-Design-de-Interiores_01/blob/main/Untitled0.ipynb\" target=\"_parent\"><img src=\"https://colab.research.google.com/assets/colab-badge.svg\" alt=\"Open In Colab\"/></a>"
      ]
    },
    {
      "cell_type": "code",
      "execution_count": null,
      "metadata": {
        "colab": {
          "base_uri": "https://localhost:8080/"
        },
        "id": "9lBGTYOtDrun",
        "outputId": "22492315-dd92-4c7a-e374-94d7be8db90a"
      },
      "outputs": [
        {
          "output_type": "execute_result",
          "data": {
            "text/plain": [
              "9"
            ]
          },
          "metadata": {},
          "execution_count": 1
        }
      ],
      "source": [
        "2 + 7"
      ]
    },
    {
      "cell_type": "code",
      "source": [
        "9 - 5"
      ],
      "metadata": {
        "colab": {
          "base_uri": "https://localhost:8080/"
        },
        "id": "GIrUVYnuFb4u",
        "outputId": "fedd3e2a-9f82-4a97-bc8c-565f3b6fb62d"
      },
      "execution_count": null,
      "outputs": [
        {
          "output_type": "execute_result",
          "data": {
            "text/plain": [
              "4"
            ]
          },
          "metadata": {},
          "execution_count": 2
        }
      ]
    },
    {
      "cell_type": "code",
      "source": [
        "7 * 5"
      ],
      "metadata": {
        "colab": {
          "base_uri": "https://localhost:8080/"
        },
        "id": "o4Pm3shoFkFS",
        "outputId": "921076d6-9891-49a6-f6e3-e9dcbee00be8"
      },
      "execution_count": null,
      "outputs": [
        {
          "output_type": "execute_result",
          "data": {
            "text/plain": [
              "35"
            ]
          },
          "metadata": {},
          "execution_count": 3
        }
      ]
    },
    {
      "cell_type": "code",
      "source": [
        "9 / 3"
      ],
      "metadata": {
        "colab": {
          "base_uri": "https://localhost:8080/"
        },
        "id": "00tv8C7kFyQu",
        "outputId": "b4c01188-2a6c-496c-b294-73b5b9f382b8"
      },
      "execution_count": null,
      "outputs": [
        {
          "output_type": "execute_result",
          "data": {
            "text/plain": [
              "3.0"
            ]
          },
          "metadata": {},
          "execution_count": 4
        }
      ]
    },
    {
      "cell_type": "code",
      "source": [
        "9 / 2"
      ],
      "metadata": {
        "colab": {
          "base_uri": "https://localhost:8080/"
        },
        "id": "mGlqROC6GK2m",
        "outputId": "0d7964af-4c5e-489c-ccee-43025e711727"
      },
      "execution_count": null,
      "outputs": [
        {
          "output_type": "execute_result",
          "data": {
            "text/plain": [
              "4.5"
            ]
          },
          "metadata": {},
          "execution_count": 6
        }
      ]
    },
    {
      "cell_type": "code",
      "source": [
        "primeiro_numero = 17"
      ],
      "metadata": {
        "id": "lf3Aij0ZI-fW"
      },
      "execution_count": null,
      "outputs": []
    },
    {
      "cell_type": "code",
      "source": [
        "primeira_operacao = 2258 + 6354"
      ],
      "metadata": {
        "id": "XUGR8WakGS5R"
      },
      "execution_count": null,
      "outputs": []
    },
    {
      "cell_type": "code",
      "source": [
        "segunda_operacao = 8 - 5"
      ],
      "metadata": {
        "id": "R3e0Li6eG_IB"
      },
      "execution_count": null,
      "outputs": []
    },
    {
      "cell_type": "code",
      "source": [
        "exponencial = 2 ** 3\n",
        "print(exponencial)"
      ],
      "metadata": {
        "colab": {
          "base_uri": "https://localhost:8080/"
        },
        "id": "SbCX0PVLQIk_",
        "outputId": "3b9ecca0-21b4-4bf2-ca33-436259601ff9"
      },
      "execution_count": null,
      "outputs": [
        {
          "output_type": "stream",
          "name": "stdout",
          "text": [
            "8\n"
          ]
        }
      ]
    },
    {
      "cell_type": "code",
      "source": [
        "print(primeira_operacao)"
      ],
      "metadata": {
        "colab": {
          "base_uri": "https://localhost:8080/"
        },
        "id": "vbZcT3KGH9nu",
        "outputId": "0f3aca52-abfd-4142-a511-0267facb6178"
      },
      "execution_count": null,
      "outputs": [
        {
          "output_type": "stream",
          "name": "stdout",
          "text": [
            "8612\n"
          ]
        }
      ]
    },
    {
      "cell_type": "code",
      "source": [
        "print(segunda_operacao)"
      ],
      "metadata": {
        "colab": {
          "base_uri": "https://localhost:8080/"
        },
        "id": "bsZ16egEIJK1",
        "outputId": "d8755ee1-6590-47d2-d2ea-3b18eb44cd62"
      },
      "execution_count": null,
      "outputs": [
        {
          "output_type": "stream",
          "name": "stdout",
          "text": [
            "3\n"
          ]
        }
      ]
    },
    {
      "cell_type": "code",
      "source": [
        "print(primeira_operacao * segunda_operacao)"
      ],
      "metadata": {
        "colab": {
          "base_uri": "https://localhost:8080/"
        },
        "id": "Cue0LcLqIXD5",
        "outputId": "59890b84-756c-4a5b-a4dd-6af60ef0de41"
      },
      "execution_count": null,
      "outputs": [
        {
          "output_type": "stream",
          "name": "stdout",
          "text": [
            "25836\n"
          ]
        }
      ]
    },
    {
      "cell_type": "code",
      "source": [
        "print(\"Olá mundo\")"
      ],
      "metadata": {
        "colab": {
          "base_uri": "https://localhost:8080/"
        },
        "id": "gPzNysEhJD8-",
        "outputId": "a65a048e-4b96-46bb-bdae-c820596d848d"
      },
      "execution_count": null,
      "outputs": [
        {
          "output_type": "stream",
          "name": "stdout",
          "text": [
            "Olá mundo\n"
          ]
        }
      ]
    },
    {
      "cell_type": "code",
      "source": [
        "mutiplicacao = primeira_operacao * segunda_operacao"
      ],
      "metadata": {
        "id": "1EtsFJnPK6sb"
      },
      "execution_count": null,
      "outputs": []
    },
    {
      "cell_type": "code",
      "source": [
        "print(mutiplicacao)"
      ],
      "metadata": {
        "colab": {
          "base_uri": "https://localhost:8080/"
        },
        "id": "PX6cqWDMMFqn",
        "outputId": "5a9f06b5-3ba8-4450-ef7f-16b295daf8a4"
      },
      "execution_count": null,
      "outputs": [
        {
          "output_type": "stream",
          "name": "stdout",
          "text": [
            "25836\n"
          ]
        }
      ]
    },
    {
      "cell_type": "code",
      "source": [
        "print(\"O resultado da mutiplicação é:\", mutiplicacao, \"que é a mutiplicaçãode de\", primeira_operacao, \"e\", segunda_operacao)"
      ],
      "metadata": {
        "colab": {
          "base_uri": "https://localhost:8080/"
        },
        "id": "7HuxwKtbNEHS",
        "outputId": "a32ec355-2b89-4b92-9d8f-315b4bd8f7f1"
      },
      "execution_count": null,
      "outputs": [
        {
          "output_type": "stream",
          "name": "stdout",
          "text": [
            "O resultado da mutiplicação é: 25836 que é a mutiplicaçãode de 8612 e 3\n"
          ]
        }
      ]
    },
    {
      "cell_type": "code",
      "source": [
        "print(f\"O resultado da mutiplicação é:{mutiplicacao}, que é a mutiplicaçãode de {primeira_operacao} e {segunda_operacao}\")"
      ],
      "metadata": {
        "colab": {
          "base_uri": "https://localhost:8080/"
        },
        "id": "bnlQyLhkN7ud",
        "outputId": "6a4b3f5b-ea1d-402a-d2e4-0ae057e80f73"
      },
      "execution_count": null,
      "outputs": [
        {
          "output_type": "stream",
          "name": "stdout",
          "text": [
            "O resultado da mutiplicação é:25836, que é a mutiplicaçãode de 8612 e 3\n"
          ]
        }
      ]
    },
    {
      "cell_type": "code",
      "source": [
        "nome1 = input(\"Digite seu nome: \")"
      ],
      "metadata": {
        "colab": {
          "base_uri": "https://localhost:8080/"
        },
        "id": "QpMC0PhHP4Yb",
        "outputId": "32f6aa9d-35cb-434b-8901-6ba57a1bd8ca"
      },
      "execution_count": null,
      "outputs": [
        {
          "name": "stdout",
          "output_type": "stream",
          "text": [
            "Digite seu nome: Lucas\n"
          ]
        }
      ]
    },
    {
      "cell_type": "code",
      "source": [
        "print(nome1)"
      ],
      "metadata": {
        "colab": {
          "base_uri": "https://localhost:8080/"
        },
        "id": "raKUXNSFSIe2",
        "outputId": "82ab42c0-8e68-4def-f6ea-28d223366b14"
      },
      "execution_count": null,
      "outputs": [
        {
          "output_type": "stream",
          "name": "stdout",
          "text": [
            "Lucas\n"
          ]
        }
      ]
    },
    {
      "cell_type": "code",
      "source": [
        "nome2 = input(\"Digite seu nome: \")"
      ],
      "metadata": {
        "colab": {
          "base_uri": "https://localhost:8080/"
        },
        "id": "ig4YdksxSUC6",
        "outputId": "419b7ea2-27f9-4ea4-c490-4946ea987f5b"
      },
      "execution_count": null,
      "outputs": [
        {
          "name": "stdout",
          "output_type": "stream",
          "text": [
            "Digite seu nome: Gomes\n"
          ]
        }
      ]
    },
    {
      "cell_type": "code",
      "source": [
        "print(f\"O nome completo é {nome1} {nome2}\")"
      ],
      "metadata": {
        "colab": {
          "base_uri": "https://localhost:8080/"
        },
        "id": "UIZyJomSSjx9",
        "outputId": "8760171e-5b35-4ba2-e2d2-5c59e7b3c2a8"
      },
      "execution_count": null,
      "outputs": [
        {
          "output_type": "stream",
          "name": "stdout",
          "text": [
            "O nome completo é Lucas Gomes\n"
          ]
        }
      ]
    },
    {
      "cell_type": "code",
      "source": [
        "idade1 = input(\"Digite sua idade: \")"
      ],
      "metadata": {
        "colab": {
          "base_uri": "https://localhost:8080/"
        },
        "id": "th-DLeGMTwPR",
        "outputId": "0b0ed7dc-07b8-453b-a77e-c910d30939c3"
      },
      "execution_count": null,
      "outputs": [
        {
          "name": "stdout",
          "output_type": "stream",
          "text": [
            "Digite sua idade: 18\n"
          ]
        }
      ]
    },
    {
      "cell_type": "code",
      "source": [
        "if int(idade1) >= 18:\n",
        "    print(\"Você é maior de idade!\")\n",
        "    print(\"Você pode entrar\")\n",
        "if int(idade1) < 18:\n",
        "    print(\"Você é menor de idade!\")\n",
        "    print(\"Você não pode entrar!\")"
      ],
      "metadata": {
        "colab": {
          "base_uri": "https://localhost:8080/"
        },
        "id": "NPXvmXekUNxV",
        "outputId": "3c75f661-4ab1-494c-8fd8-861735218fca"
      },
      "execution_count": null,
      "outputs": [
        {
          "output_type": "stream",
          "name": "stdout",
          "text": [
            "Você é maior de idade!\n",
            "Você pode entrar\n"
          ]
        }
      ]
    },
    {
      "cell_type": "code",
      "source": [
        "if int(idade1) >= 18:\n",
        "    print(\"Você é maior de idade!\")\n",
        "    print(\"Você pode entrar\")\n",
        "else:\n",
        "    print(\"Você é menor de idade!\")\n",
        "    print(\"Você não pode entrar!\")"
      ],
      "metadata": {
        "colab": {
          "base_uri": "https://localhost:8080/"
        },
        "id": "q59Ge7AAXgq7",
        "outputId": "2f418107-4484-4c2e-9e56-1bad05c51332"
      },
      "execution_count": null,
      "outputs": [
        {
          "output_type": "stream",
          "name": "stdout",
          "text": [
            "Você é maior de idade!\n",
            "Você pode entrar\n"
          ]
        }
      ]
    },
    {
      "cell_type": "code",
      "source": [
        "def verificar_idade(idade):\n",
        "    if int(idade) >= 18:\n",
        "        print(\"Você é maior de idade!\")\n",
        "        print(\"Você pode entrar\")\n",
        "    else:\n",
        "        print(\"Você é menor de idade!\")\n",
        "        print(\"Você não pode entrar!\")\n"
      ],
      "metadata": {
        "id": "nhXrtBPWX2nR"
      },
      "execution_count": null,
      "outputs": []
    },
    {
      "cell_type": "code",
      "source": [
        "verificar_idade(17)"
      ],
      "metadata": {
        "colab": {
          "base_uri": "https://localhost:8080/"
        },
        "id": "5IcN_7uAY7Al",
        "outputId": "af98db6f-09fe-4ef6-cb09-876991015d50"
      },
      "execution_count": null,
      "outputs": [
        {
          "output_type": "stream",
          "name": "stdout",
          "text": [
            "Você é menor de idade!\n",
            "Você não pode entrar!\n"
          ]
        }
      ]
    },
    {
      "cell_type": "code",
      "source": [
        "contador = 0\n",
        "\n",
        "\n",
        "while contador < 5:\n",
        "      print(f\"Contagem: {contador}\")\n",
        "      contador = contador + 1\n",
        "\n",
        "print(\"Fim da contagem\")\n",
        "\n",
        "\n"
      ],
      "metadata": {
        "colab": {
          "base_uri": "https://localhost:8080/"
        },
        "id": "EfqsUi4tetQ7",
        "outputId": "362fcdb8-2fac-4cc8-a8a5-20b8736789c0"
      },
      "execution_count": null,
      "outputs": [
        {
          "output_type": "stream",
          "name": "stdout",
          "text": [
            "Contagem: 0\n",
            "Contagem: 1\n",
            "Contagem: 2\n",
            "Contagem: 3\n",
            "Contagem: 4\n",
            "Fim da contagem\n"
          ]
        }
      ]
    },
    {
      "cell_type": "code",
      "source": [
        "modelos = [\"2.0 flash\", \"2.5 pro\", \"2.5 flash\"]"
      ],
      "metadata": {
        "id": "S2z96t_singx"
      },
      "execution_count": null,
      "outputs": []
    },
    {
      "cell_type": "code",
      "source": [
        "modelos"
      ],
      "metadata": {
        "colab": {
          "base_uri": "https://localhost:8080/"
        },
        "id": "xaxOkWR_jUrT",
        "outputId": "e4723295-5336-493a-b1c8-d0a2a22804f8"
      },
      "execution_count": null,
      "outputs": [
        {
          "output_type": "execute_result",
          "data": {
            "text/plain": [
              "['2.0 flash', '2.5 pro', '2.5 flash']"
            ]
          },
          "metadata": {},
          "execution_count": 48
        }
      ]
    },
    {
      "cell_type": "code",
      "source": [
        "for modelo in modelos:\n",
        "    print(modelo)"
      ],
      "metadata": {
        "colab": {
          "base_uri": "https://localhost:8080/"
        },
        "id": "V8JLGNXNjj3B",
        "outputId": "78f8368c-3963-4797-f03f-4c398a8d3110"
      },
      "execution_count": null,
      "outputs": [
        {
          "output_type": "stream",
          "name": "stdout",
          "text": [
            "2.0 flash\n",
            "2.5 pro\n",
            "2.5 flash\n"
          ]
        }
      ]
    }
  ]
}